{
 "cells": [
  {
   "cell_type": "code",
   "execution_count": 58,
   "metadata": {},
   "outputs": [],
   "source": [
    "import tensorflow as tf, keras, numpy as np, cv2, os, VIT"
   ]
  },
  {
   "cell_type": "code",
   "execution_count": 59,
   "metadata": {},
   "outputs": [
    {
     "name": "stderr",
     "output_type": "stream",
     "text": [
      "/home/thoalfeqar/anaconda3/envs/tf/lib/python3.12/site-packages/keras/src/layers/layer.py:391: UserWarning: `build()` was called on layer 'patch_encoder_1', however the layer does not have a `build()` method implemented and it looks like it has unbuilt state. This will cause the layer to be marked as built, despite not being actually built, which may cause failures down the line. Make sure to implement a proper `build()` method.\n",
      "  warnings.warn(\n"
     ]
    }
   ],
   "source": [
    "model = keras.models.load_model(os.path.join('data', 'checkpoint', 'Final model', 'Final model.keras'))"
   ]
  },
  {
   "cell_type": "code",
   "execution_count": 60,
   "metadata": {},
   "outputs": [],
   "source": [
    "optimized_model = tf.lite.Interpreter(os.path.join('data', 'checkpoint', 'Final model', 'Final model.tflite'))\n",
    "optimized_model.allocate_tensors()\n",
    "input_index = optimized_model.get_input_details()[0]['index']\n",
    "output_index = optimized_model.get_output_details()[0]['index']\n",
    "input_format = optimized_model.get_input_details()[0]['dtype']\n",
    "\n",
    "\n",
    "def get_prediction_from_optimized_model(image, interpreter, input_index, output_index, input_format):\n",
    "    image = np.array([image]).astype(input_format)\n",
    "    interpreter.set_tensor(input_index, image)\n",
    "    interpreter.invoke()\n",
    "    return interpreter.get_tensor(output_index)\n",
    "    \n",
    "    "
   ]
  },
  {
   "cell_type": "code",
   "execution_count": 61,
   "metadata": {},
   "outputs": [],
   "source": [
    "cap = cv2.VideoCapture(os.path.join('data', 'test videos', '3.mp4'))\n",
    "face_cascade = cv2.CascadeClassifier(os.path.join('data', 'Haar cascades', 'haarcascade_frontalface_default.xml'))\n",
    "\n",
    "labels = [\n",
    "    'Thoalfeqar',\n",
    "    'Not Thoalfeqar'\n",
    "]\n",
    "\n",
    "\n",
    "while cap.isOpened():\n",
    "    ret, frame = cap.read()\n",
    "    if not ret:\n",
    "        break\n",
    "    \n",
    "    faces = face_cascade.detectMultiScale(frame, scaleFactor=1.3, minNeighbors=7, minSize = (250, 250))\n",
    "    for face in faces:\n",
    "        x, y, w, h = face\n",
    "        face_segment = cv2.resize(frame[y : y + h, x : x + w][:, :, ::-1], (112, 112))\n",
    "        prediction = get_prediction_from_optimized_model(face_segment, optimized_model, input_index, output_index, input_format)\n",
    "        predicted_index = np.argmax(prediction)\n",
    "        predicted_label = labels[predicted_index]\n",
    "        cv2.putText(frame, text = predicted_label, org = (x, y - 10), fontFace = cv2.FONT_HERSHEY_SIMPLEX, fontScale = 1, color = (0, 0, 255), thickness = 4)\n",
    "        cv2.rectangle(frame, rec = face, color = (0, 0, 255), thickness = 1)\n",
    "\n",
    "\n",
    "    cv2.imshow('hi', frame)\n",
    "    if cv2.waitKey(1000//60) == ord('q'):\n",
    "        break\n",
    "\n",
    "cv2.destroyAllWindows()"
   ]
  },
  {
   "cell_type": "code",
   "execution_count": null,
   "metadata": {},
   "outputs": [],
   "source": []
  }
 ],
 "metadata": {
  "kernelspec": {
   "display_name": "tf",
   "language": "python",
   "name": "python3"
  },
  "language_info": {
   "codemirror_mode": {
    "name": "ipython",
    "version": 3
   },
   "file_extension": ".py",
   "mimetype": "text/x-python",
   "name": "python",
   "nbconvert_exporter": "python",
   "pygments_lexer": "ipython3",
   "version": "3.12.7"
  }
 },
 "nbformat": 4,
 "nbformat_minor": 2
}

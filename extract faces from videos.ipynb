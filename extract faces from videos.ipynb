{
 "cells": [
  {
   "cell_type": "code",
   "execution_count": 42,
   "metadata": {},
   "outputs": [],
   "source": [
    "import cv2, numpy as np, face_recognition\n",
    "import os, dlib, time\n"
   ]
  },
  {
   "cell_type": "code",
   "execution_count": 43,
   "metadata": {},
   "outputs": [],
   "source": [
    "def convert_and_trim_bb(image, rect):\n",
    "\t# extract the starting and ending (x, y)-coordinates of the\n",
    "\t# bounding box\n",
    "\tstartX = rect.left()\n",
    "\tstartY = rect.top()\n",
    "\tendX = rect.right()\n",
    "\tendY = rect.bottom()\n",
    "\t# ensure the bounding box coordinates fall within the spatial\n",
    "\t# dimensions of the image\n",
    "\tstartX = max(0, startX)\n",
    "\tstartY = max(0, startY)\n",
    "\tendX = min(endX, image.shape[1])\n",
    "\tendY = min(endY, image.shape[0])\n",
    "\t# compute the width and height of the bounding box\n",
    "\tw = endX - startX\n",
    "\th = endY - startY\n",
    "\t# return our bounding box coordinates\n",
    "\treturn (startX, startY, w, h)"
   ]
  },
  {
   "cell_type": "code",
   "execution_count": null,
   "metadata": {},
   "outputs": [
    {
     "name": "stdout",
     "output_type": "stream",
     "text": [
      "True\n",
      "True\n",
      "True\n",
      "True\n",
      "True\n",
      "True\n",
      "True\n"
     ]
    }
   ],
   "source": [
    "fine_tuning_db = os.path.join('data', 'Fine tuning DB')\n",
    "face_cascade = cv2.CascadeClassifier(os.path.join('data', 'Haar cascades', 'haarcascade_frontalface_default.xml'))\n",
    "detector = dlib.get_frontal_face_detector()\n",
    "\n",
    "for dirname, dir, filenames in os.walk(fine_tuning_db):\n",
    "    if len(filenames) > 0:\n",
    "        for filename in filenames:\n",
    "            capture = cv2.VideoCapture(os.path.join(dirname, filename))\n",
    "            while capture.isOpened():\n",
    "                \n",
    "                ret, frame = capture.read()\n",
    "                if(type(frame) == type(None)):\n",
    "                    break\n",
    "                frame = cv2.resize(frame, (0, 0), fx = 0.4, fy = 0.4)\n",
    "                try:\n",
    "                    faces = detector(frame, 0)\n",
    "                    faces = [convert_and_trim_bb(frame, r) for r in faces]\n",
    "                    for x, y, w, h in faces:\n",
    "                        face = frame[y : y + h, x : x + w]\n",
    "                except Exception as e:\n",
    "                    print(e)\n",
    "                \n",
    "                cv2.imwrite(os.path.join(dirname, str(time.time()) + '.jpg'), face)\n",
    "                \n",
    "\n",
    "                if cv2.waitKey(1) == ord('q'):\n",
    "                    break\n",
    "\n",
    "            cv2.destroyAllWindows()\n"
   ]
  },
  {
   "cell_type": "code",
   "execution_count": null,
   "metadata": {},
   "outputs": [],
   "source": []
  }
 ],
 "metadata": {
  "kernelspec": {
   "display_name": "tf",
   "language": "python",
   "name": "python3"
  },
  "language_info": {
   "codemirror_mode": {
    "name": "ipython",
    "version": 3
   },
   "file_extension": ".py",
   "mimetype": "text/x-python",
   "name": "python",
   "nbconvert_exporter": "python",
   "pygments_lexer": "ipython3",
   "version": "3.12.7"
  }
 },
 "nbformat": 4,
 "nbformat_minor": 2
}
